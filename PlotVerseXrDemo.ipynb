{
  "nbformat": 4,
  "nbformat_minor": 0,
  "metadata": {
    "colab": {
      "provenance": [],
      "gpuType": "T4",
      "authorship_tag": "ABX9TyP7uFrVKozhv0brDRGGI8A2",
      "include_colab_link": true
    },
    "kernelspec": {
      "name": "python3",
      "display_name": "Python 3"
    },
    "language_info": {
      "name": "python"
    },
    "accelerator": "GPU"
  },
  "cells": [
    {
      "cell_type": "markdown",
      "metadata": {
        "id": "view-in-github",
        "colab_type": "text"
      },
      "source": [
        "<a href=\"https://colab.research.google.com/github/rmr327/LlmEmbeddingXrVizualization/blob/main/PlotVerseXrDemo.ipynb\" target=\"_parent\"><img src=\"https://colab.research.google.com/assets/colab-badge.svg\" alt=\"Open In Colab\"/></a>"
      ]
    },
    {
      "cell_type": "code",
      "execution_count": 1,
      "metadata": {
        "colab": {
          "base_uri": "https://localhost:8080/",
          "height": 1000
        },
        "id": "Dv6BaZWcAPGF",
        "outputId": "e65a45fe-2565-4b25-aae9-e52ddd7141d0"
      },
      "outputs": [
        {
          "output_type": "stream",
          "name": "stdout",
          "text": [
            "Collecting LlmEmbeddingXrVizualization==0.1.8\n",
            "  Downloading LlmEmbeddingXrVizualization-0.1.8-py3-none-any.whl.metadata (5.7 kB)\n",
            "Requirement already satisfied: Cython<4.0.0,>=3.0.11 in /usr/local/lib/python3.10/dist-packages (from LlmEmbeddingXrVizualization==0.1.8) (3.0.11)\n",
            "Requirement already satisfied: Jinja2<4.0.0,>=3.1.3 in /usr/local/lib/python3.10/dist-packages (from LlmEmbeddingXrVizualization==0.1.8) (3.1.4)\n",
            "Collecting MarkupSafe<3.0.0,>=2.1.5 (from LlmEmbeddingXrVizualization==0.1.8)\n",
            "  Downloading MarkupSafe-2.1.5-cp310-cp310-manylinux_2_17_x86_64.manylinux2014_x86_64.whl.metadata (3.0 kB)\n",
            "Requirement already satisfied: PyYAML<7.0.0,>=6.0.2 in /usr/local/lib/python3.10/dist-packages (from LlmEmbeddingXrVizualization==0.1.8) (6.0.2)\n",
            "Collecting bpy<5.0.0,>=4.0.0 (from LlmEmbeddingXrVizualization==0.1.8)\n",
            "  Downloading bpy-4.0.0-cp310-cp310-manylinux_2_28_x86_64.whl.metadata (1.5 kB)\n",
            "Requirement already satisfied: certifi<2025.0.0,>=2024.8.30 in /usr/local/lib/python3.10/dist-packages (from LlmEmbeddingXrVizualization==0.1.8) (2024.8.30)\n",
            "Requirement already satisfied: charset-normalizer<4.0.0,>=3.4.0 in /usr/local/lib/python3.10/dist-packages (from LlmEmbeddingXrVizualization==0.1.8) (3.4.0)\n",
            "Requirement already satisfied: click<9.0.0,>=8.1.7 in /usr/local/lib/python3.10/dist-packages (from LlmEmbeddingXrVizualization==0.1.8) (8.1.7)\n",
            "Requirement already satisfied: contourpy<2.0.0,>=1.3.1 in /usr/local/lib/python3.10/dist-packages (from LlmEmbeddingXrVizualization==0.1.8) (1.3.1)\n",
            "Requirement already satisfied: cycler<1.0.0,>=0.12.1 in /usr/local/lib/python3.10/dist-packages (from LlmEmbeddingXrVizualization==0.1.8) (0.12.1)\n",
            "Requirement already satisfied: exceptiongroup<2.0.0,>=1.2.2 in /usr/local/lib/python3.10/dist-packages (from LlmEmbeddingXrVizualization==0.1.8) (1.2.2)\n",
            "Requirement already satisfied: filelock<4.0.0,>=3.13.1 in /usr/local/lib/python3.10/dist-packages (from LlmEmbeddingXrVizualization==0.1.8) (3.16.1)\n",
            "Requirement already satisfied: fonttools<5.0.0,>=4.55.0 in /usr/local/lib/python3.10/dist-packages (from LlmEmbeddingXrVizualization==0.1.8) (4.55.0)\n",
            "Requirement already satisfied: fsspec<2025.0.0,>=2024.2.0 in /usr/local/lib/python3.10/dist-packages (from LlmEmbeddingXrVizualization==0.1.8) (2024.10.0)\n",
            "Collecting huggingface-hub<1.0.0,>=0.26.3 (from LlmEmbeddingXrVizualization==0.1.8)\n",
            "  Downloading huggingface_hub-0.26.3-py3-none-any.whl.metadata (13 kB)\n",
            "Requirement already satisfied: idna<4.0.0,>=3.10 in /usr/local/lib/python3.10/dist-packages (from LlmEmbeddingXrVizualization==0.1.8) (3.10)\n",
            "Requirement already satisfied: iniconfig<3.0.0,>=2.0.0 in /usr/local/lib/python3.10/dist-packages (from LlmEmbeddingXrVizualization==0.1.8) (2.0.0)\n",
            "Requirement already satisfied: joblib<2.0.0,>=1.4.2 in /usr/local/lib/python3.10/dist-packages (from LlmEmbeddingXrVizualization==0.1.8) (1.4.2)\n",
            "Requirement already satisfied: kiwisolver<2.0.0,>=1.4.7 in /usr/local/lib/python3.10/dist-packages (from LlmEmbeddingXrVizualization==0.1.8) (1.4.7)\n",
            "Requirement already satisfied: llvmlite<1.0.0,>=0.43.0 in /usr/local/lib/python3.10/dist-packages (from LlmEmbeddingXrVizualization==0.1.8) (0.43.0)\n",
            "Collecting mathutils<4.0.0,>=3.3.0 (from LlmEmbeddingXrVizualization==0.1.8)\n",
            "  Downloading mathutils-3.3.0.tar.gz (245 kB)\n",
            "\u001b[2K     \u001b[90m━━━━━━━━━━━━━━━━━━━━━━━━━━━━━━━━━━━━━━━━\u001b[0m \u001b[32m245.4/245.4 kB\u001b[0m \u001b[31m9.3 MB/s\u001b[0m eta \u001b[36m0:00:00\u001b[0m\n",
            "\u001b[?25h  Preparing metadata (setup.py) ... \u001b[?25l\u001b[?25hdone\n",
            "Collecting matplotlib<4.0.0,>=3.9.3 (from LlmEmbeddingXrVizualization==0.1.8)\n",
            "  Downloading matplotlib-3.9.3-cp310-cp310-manylinux_2_17_x86_64.manylinux2014_x86_64.whl.metadata (11 kB)\n",
            "Requirement already satisfied: mpmath<2.0.0,>=1.3.0 in /usr/local/lib/python3.10/dist-packages (from LlmEmbeddingXrVizualization==0.1.8) (1.3.0)\n",
            "Requirement already satisfied: networkx<4.0.0,>=3.2.1 in /usr/local/lib/python3.10/dist-packages (from LlmEmbeddingXrVizualization==0.1.8) (3.4.2)\n",
            "Requirement already satisfied: numba<1.0.0,>=0.60.0 in /usr/local/lib/python3.10/dist-packages (from LlmEmbeddingXrVizualization==0.1.8) (0.60.0)\n",
            "Requirement already satisfied: numpy<2.0.0,>=1.26.3 in /usr/local/lib/python3.10/dist-packages (from LlmEmbeddingXrVizualization==0.1.8) (1.26.4)\n",
            "Requirement already satisfied: packaging<25.0,>=24.2 in /usr/local/lib/python3.10/dist-packages (from LlmEmbeddingXrVizualization==0.1.8) (24.2)\n",
            "Collecting pandas<3.0.0,>=2.2.3 (from LlmEmbeddingXrVizualization==0.1.8)\n",
            "  Downloading pandas-2.2.3-cp310-cp310-manylinux_2_17_x86_64.manylinux2014_x86_64.whl.metadata (89 kB)\n",
            "\u001b[2K     \u001b[90m━━━━━━━━━━━━━━━━━━━━━━━━━━━━━━━━━━━━━━━━\u001b[0m \u001b[32m89.9/89.9 kB\u001b[0m \u001b[31m6.2 MB/s\u001b[0m eta \u001b[36m0:00:00\u001b[0m\n",
            "\u001b[?25hCollecting pillow<11.0.0,>=10.2.0 (from LlmEmbeddingXrVizualization==0.1.8)\n",
            "  Downloading pillow-10.4.0-cp310-cp310-manylinux_2_28_x86_64.whl.metadata (9.2 kB)\n",
            "Requirement already satisfied: plotly<6.0.0,>=5.24.1 in /usr/local/lib/python3.10/dist-packages (from LlmEmbeddingXrVizualization==0.1.8) (5.24.1)\n",
            "Requirement already satisfied: pluggy<2.0.0,>=1.5.0 in /usr/local/lib/python3.10/dist-packages (from LlmEmbeddingXrVizualization==0.1.8) (1.5.0)\n",
            "Collecting pynndescent<1.0.0,>=0.5.13 (from LlmEmbeddingXrVizualization==0.1.8)\n",
            "  Downloading pynndescent-0.5.13-py3-none-any.whl.metadata (6.8 kB)\n",
            "Requirement already satisfied: pyparsing<4.0.0,>=3.2.0 in /usr/local/lib/python3.10/dist-packages (from LlmEmbeddingXrVizualization==0.1.8) (3.2.0)\n",
            "Requirement already satisfied: pytest<9.0.0,>=8.3.3 in /usr/local/lib/python3.10/dist-packages (from LlmEmbeddingXrVizualization==0.1.8) (8.3.3)\n",
            "Collecting python-dateutil<3.0.0,>=2.9.0.post0 (from LlmEmbeddingXrVizualization==0.1.8)\n",
            "  Downloading python_dateutil-2.9.0.post0-py2.py3-none-any.whl.metadata (8.4 kB)\n",
            "Requirement already satisfied: pytz<2025.0,>=2024.2 in /usr/local/lib/python3.10/dist-packages (from LlmEmbeddingXrVizualization==0.1.8) (2024.2)\n",
            "Collecting regex<2025.0.0,>=2024.11.6 (from LlmEmbeddingXrVizualization==0.1.8)\n",
            "  Downloading regex-2024.11.6-cp310-cp310-manylinux_2_17_x86_64.manylinux2014_x86_64.whl.metadata (40 kB)\n",
            "\u001b[2K     \u001b[90m━━━━━━━━━━━━━━━━━━━━━━━━━━━━━━━━━━━━━━━━\u001b[0m \u001b[32m40.5/40.5 kB\u001b[0m \u001b[31m3.4 MB/s\u001b[0m eta \u001b[36m0:00:00\u001b[0m\n",
            "\u001b[?25hRequirement already satisfied: requests<3.0.0,>=2.32.3 in /usr/local/lib/python3.10/dist-packages (from LlmEmbeddingXrVizualization==0.1.8) (2.32.3)\n",
            "Requirement already satisfied: safetensors<1.0.0,>=0.4.5 in /usr/local/lib/python3.10/dist-packages (from LlmEmbeddingXrVizualization==0.1.8) (0.4.5)\n",
            "Requirement already satisfied: scikit-learn<2.0.0,>=1.5.2 in /usr/local/lib/python3.10/dist-packages (from LlmEmbeddingXrVizualization==0.1.8) (1.5.2)\n",
            "Collecting scipy<2.0.0,>=1.14.1 (from LlmEmbeddingXrVizualization==0.1.8)\n",
            "  Downloading scipy-1.14.1-cp310-cp310-manylinux_2_17_x86_64.manylinux2014_x86_64.whl.metadata (60 kB)\n",
            "\u001b[2K     \u001b[90m━━━━━━━━━━━━━━━━━━━━━━━━━━━━━━━━━━━━━━━━\u001b[0m \u001b[32m60.8/60.8 kB\u001b[0m \u001b[31m5.3 MB/s\u001b[0m eta \u001b[36m0:00:00\u001b[0m\n",
            "\u001b[?25hRequirement already satisfied: six<2.0.0,>=1.16.0 in /usr/local/lib/python3.10/dist-packages (from LlmEmbeddingXrVizualization==0.1.8) (1.16.0)\n",
            "Requirement already satisfied: sympy<2.0.0,>=1.13.1 in /usr/local/lib/python3.10/dist-packages (from LlmEmbeddingXrVizualization==0.1.8) (1.13.1)\n",
            "Requirement already satisfied: tenacity<10.0.0,>=9.0.0 in /usr/local/lib/python3.10/dist-packages (from LlmEmbeddingXrVizualization==0.1.8) (9.0.0)\n",
            "Requirement already satisfied: threadpoolctl<4.0.0,>=3.5.0 in /usr/local/lib/python3.10/dist-packages (from LlmEmbeddingXrVizualization==0.1.8) (3.5.0)\n",
            "Requirement already satisfied: tokenizers<1.0.0,>=0.20.3 in /usr/local/lib/python3.10/dist-packages (from LlmEmbeddingXrVizualization==0.1.8) (0.20.3)\n",
            "Collecting tomli<3.0.0,>=2.2.1 (from LlmEmbeddingXrVizualization==0.1.8)\n",
            "  Downloading tomli-2.2.1-py3-none-any.whl.metadata (10 kB)\n",
            "Requirement already satisfied: torch in /usr/local/lib/python3.10/dist-packages (from LlmEmbeddingXrVizualization==0.1.8) (2.5.1+cu121)\n",
            "Requirement already satisfied: torchaudio in /usr/local/lib/python3.10/dist-packages (from LlmEmbeddingXrVizualization==0.1.8) (2.5.1+cu121)\n",
            "Requirement already satisfied: torchvision in /usr/local/lib/python3.10/dist-packages (from LlmEmbeddingXrVizualization==0.1.8) (0.20.1+cu121)\n",
            "Collecting tqdm<5.0.0,>=4.67.1 (from LlmEmbeddingXrVizualization==0.1.8)\n",
            "  Downloading tqdm-4.67.1-py3-none-any.whl.metadata (57 kB)\n",
            "\u001b[2K     \u001b[90m━━━━━━━━━━━━━━━━━━━━━━━━━━━━━━━━━━━━━━━━\u001b[0m \u001b[32m57.7/57.7 kB\u001b[0m \u001b[31m5.2 MB/s\u001b[0m eta \u001b[36m0:00:00\u001b[0m\n",
            "\u001b[?25hCollecting transformers<5.0.0,>=4.46.3 (from LlmEmbeddingXrVizualization==0.1.8)\n",
            "  Downloading transformers-4.46.3-py3-none-any.whl.metadata (44 kB)\n",
            "\u001b[2K     \u001b[90m━━━━━━━━━━━━━━━━━━━━━━━━━━━━━━━━━━━━━━━━\u001b[0m \u001b[32m44.1/44.1 kB\u001b[0m \u001b[31m3.1 MB/s\u001b[0m eta \u001b[36m0:00:00\u001b[0m\n",
            "\u001b[?25hRequirement already satisfied: typing-extensions<5.0.0,>=4.9.0 in /usr/local/lib/python3.10/dist-packages (from LlmEmbeddingXrVizualization==0.1.8) (4.12.2)\n",
            "Requirement already satisfied: tzdata<2025.0,>=2024.2 in /usr/local/lib/python3.10/dist-packages (from LlmEmbeddingXrVizualization==0.1.8) (2024.2)\n",
            "Collecting umap-learn<1.0.0,>=0.5.6 (from LlmEmbeddingXrVizualization==0.1.8)\n",
            "  Downloading umap_learn-0.5.7-py3-none-any.whl.metadata (21 kB)\n",
            "Requirement already satisfied: urllib3<3.0.0,>=2.2.3 in /usr/local/lib/python3.10/dist-packages (from LlmEmbeddingXrVizualization==0.1.8) (2.2.3)\n",
            "Collecting zstandard<1.0.0,>=0.23.0 (from LlmEmbeddingXrVizualization==0.1.8)\n",
            "  Downloading zstandard-0.23.0-cp310-cp310-manylinux_2_17_x86_64.manylinux2014_x86_64.whl.metadata (3.0 kB)\n",
            "Downloading LlmEmbeddingXrVizualization-0.1.8-py3-none-any.whl (11 kB)\n",
            "Downloading bpy-4.0.0-cp310-cp310-manylinux_2_28_x86_64.whl (390.1 MB)\n",
            "\u001b[2K   \u001b[90m━━━━━━━━━━━━━━━━━━━━━━━━━━━━━━━━━━━━━━━━\u001b[0m \u001b[32m390.1/390.1 MB\u001b[0m \u001b[31m2.8 MB/s\u001b[0m eta \u001b[36m0:00:00\u001b[0m\n",
            "\u001b[?25hDownloading huggingface_hub-0.26.3-py3-none-any.whl (447 kB)\n",
            "\u001b[2K   \u001b[90m━━━━━━━━━━━━━━━━━━━━━━━━━━━━━━━━━━━━━━━━\u001b[0m \u001b[32m447.6/447.6 kB\u001b[0m \u001b[31m32.8 MB/s\u001b[0m eta \u001b[36m0:00:00\u001b[0m\n",
            "\u001b[?25hDownloading MarkupSafe-2.1.5-cp310-cp310-manylinux_2_17_x86_64.manylinux2014_x86_64.whl (25 kB)\n",
            "Downloading matplotlib-3.9.3-cp310-cp310-manylinux_2_17_x86_64.manylinux2014_x86_64.whl (8.3 MB)\n",
            "\u001b[2K   \u001b[90m━━━━━━━━━━━━━━━━━━━━━━━━━━━━━━━━━━━━━━━━\u001b[0m \u001b[32m8.3/8.3 MB\u001b[0m \u001b[31m37.8 MB/s\u001b[0m eta \u001b[36m0:00:00\u001b[0m\n",
            "\u001b[?25hDownloading pandas-2.2.3-cp310-cp310-manylinux_2_17_x86_64.manylinux2014_x86_64.whl (13.1 MB)\n",
            "\u001b[2K   \u001b[90m━━━━━━━━━━━━━━━━━━━━━━━━━━━━━━━━━━━━━━━━\u001b[0m \u001b[32m13.1/13.1 MB\u001b[0m \u001b[31m100.7 MB/s\u001b[0m eta \u001b[36m0:00:00\u001b[0m\n",
            "\u001b[?25hDownloading pillow-10.4.0-cp310-cp310-manylinux_2_28_x86_64.whl (4.5 MB)\n",
            "\u001b[2K   \u001b[90m━━━━━━━━━━━━━━━━━━━━━━━━━━━━━━━━━━━━━━━━\u001b[0m \u001b[32m4.5/4.5 MB\u001b[0m \u001b[31m52.1 MB/s\u001b[0m eta \u001b[36m0:00:00\u001b[0m\n",
            "\u001b[?25hDownloading pynndescent-0.5.13-py3-none-any.whl (56 kB)\n",
            "\u001b[2K   \u001b[90m━━━━━━━━━━━━━━━━━━━━━━━━━━━━━━━━━━━━━━━━\u001b[0m \u001b[32m56.9/56.9 kB\u001b[0m \u001b[31m5.1 MB/s\u001b[0m eta \u001b[36m0:00:00\u001b[0m\n",
            "\u001b[?25hDownloading python_dateutil-2.9.0.post0-py2.py3-none-any.whl (229 kB)\n",
            "\u001b[2K   \u001b[90m━━━━━━━━━━━━━━━━━━━━━━━━━━━━━━━━━━━━━━━━\u001b[0m \u001b[32m229.9/229.9 kB\u001b[0m \u001b[31m19.4 MB/s\u001b[0m eta \u001b[36m0:00:00\u001b[0m\n",
            "\u001b[?25hDownloading regex-2024.11.6-cp310-cp310-manylinux_2_17_x86_64.manylinux2014_x86_64.whl (781 kB)\n",
            "\u001b[2K   \u001b[90m━━━━━━━━━━━━━━━━━━━━━━━━━━━━━━━━━━━━━━━━\u001b[0m \u001b[32m781.7/781.7 kB\u001b[0m \u001b[31m56.1 MB/s\u001b[0m eta \u001b[36m0:00:00\u001b[0m\n",
            "\u001b[?25hDownloading scipy-1.14.1-cp310-cp310-manylinux_2_17_x86_64.manylinux2014_x86_64.whl (41.2 MB)\n",
            "\u001b[2K   \u001b[90m━━━━━━━━━━━━━━━━━━━━━━━━━━━━━━━━━━━━━━━━\u001b[0m \u001b[32m41.2/41.2 MB\u001b[0m \u001b[31m12.4 MB/s\u001b[0m eta \u001b[36m0:00:00\u001b[0m\n",
            "\u001b[?25hDownloading tomli-2.2.1-py3-none-any.whl (14 kB)\n",
            "Downloading tqdm-4.67.1-py3-none-any.whl (78 kB)\n",
            "\u001b[2K   \u001b[90m━━━━━━━━━━━━━━━━━━━━━━━━━━━━━━━━━━━━━━━━\u001b[0m \u001b[32m78.5/78.5 kB\u001b[0m \u001b[31m7.6 MB/s\u001b[0m eta \u001b[36m0:00:00\u001b[0m\n",
            "\u001b[?25hDownloading transformers-4.46.3-py3-none-any.whl (10.0 MB)\n",
            "\u001b[2K   \u001b[90m━━━━━━━━━━━━━━━━━━━━━━━━━━━━━━━━━━━━━━━━\u001b[0m \u001b[32m10.0/10.0 MB\u001b[0m \u001b[31m91.3 MB/s\u001b[0m eta \u001b[36m0:00:00\u001b[0m\n",
            "\u001b[?25hDownloading umap_learn-0.5.7-py3-none-any.whl (88 kB)\n",
            "\u001b[2K   \u001b[90m━━━━━━━━━━━━━━━━━━━━━━━━━━━━━━━━━━━━━━━━\u001b[0m \u001b[32m88.8/88.8 kB\u001b[0m \u001b[31m8.7 MB/s\u001b[0m eta \u001b[36m0:00:00\u001b[0m\n",
            "\u001b[?25hDownloading zstandard-0.23.0-cp310-cp310-manylinux_2_17_x86_64.manylinux2014_x86_64.whl (5.4 MB)\n",
            "\u001b[2K   \u001b[90m━━━━━━━━━━━━━━━━━━━━━━━━━━━━━━━━━━━━━━━━\u001b[0m \u001b[32m5.4/5.4 MB\u001b[0m \u001b[31m70.6 MB/s\u001b[0m eta \u001b[36m0:00:00\u001b[0m\n",
            "\u001b[?25hBuilding wheels for collected packages: mathutils\n",
            "  Building wheel for mathutils (setup.py) ... \u001b[?25l\u001b[?25hdone\n",
            "  Created wheel for mathutils: filename=mathutils-3.3.0-cp310-cp310-linux_x86_64.whl size=659337 sha256=5b03c09d530c29da49931355b491e4415c368c3c2a699414490ae23f46a03a31\n",
            "  Stored in directory: /root/.cache/pip/wheels/a0/43/5d/6512dbdb5935a0cdc474bc9d1fd7d23e7c9711877dd15223e3\n",
            "Successfully built mathutils\n",
            "Installing collected packages: mathutils, zstandard, tqdm, tomli, scipy, regex, python-dateutil, pillow, MarkupSafe, pandas, matplotlib, huggingface-hub, bpy, pynndescent, umap-learn, transformers, LlmEmbeddingXrVizualization\n",
            "  Attempting uninstall: tqdm\n",
            "    Found existing installation: tqdm 4.66.6\n",
            "    Uninstalling tqdm-4.66.6:\n",
            "      Successfully uninstalled tqdm-4.66.6\n",
            "  Attempting uninstall: tomli\n",
            "    Found existing installation: tomli 2.1.0\n",
            "    Uninstalling tomli-2.1.0:\n",
            "      Successfully uninstalled tomli-2.1.0\n",
            "  Attempting uninstall: scipy\n",
            "    Found existing installation: scipy 1.13.1\n",
            "    Uninstalling scipy-1.13.1:\n",
            "      Successfully uninstalled scipy-1.13.1\n",
            "  Attempting uninstall: regex\n",
            "    Found existing installation: regex 2024.9.11\n",
            "    Uninstalling regex-2024.9.11:\n",
            "      Successfully uninstalled regex-2024.9.11\n",
            "  Attempting uninstall: python-dateutil\n",
            "    Found existing installation: python-dateutil 2.8.2\n",
            "    Uninstalling python-dateutil-2.8.2:\n",
            "      Successfully uninstalled python-dateutil-2.8.2\n",
            "  Attempting uninstall: pillow\n",
            "    Found existing installation: pillow 11.0.0\n",
            "    Uninstalling pillow-11.0.0:\n",
            "      Successfully uninstalled pillow-11.0.0\n",
            "  Attempting uninstall: MarkupSafe\n",
            "    Found existing installation: MarkupSafe 3.0.2\n",
            "    Uninstalling MarkupSafe-3.0.2:\n",
            "      Successfully uninstalled MarkupSafe-3.0.2\n",
            "  Attempting uninstall: pandas\n",
            "    Found existing installation: pandas 2.2.2\n",
            "    Uninstalling pandas-2.2.2:\n",
            "      Successfully uninstalled pandas-2.2.2\n",
            "  Attempting uninstall: matplotlib\n",
            "    Found existing installation: matplotlib 3.8.0\n",
            "    Uninstalling matplotlib-3.8.0:\n",
            "      Successfully uninstalled matplotlib-3.8.0\n",
            "  Attempting uninstall: huggingface-hub\n",
            "    Found existing installation: huggingface-hub 0.26.2\n",
            "    Uninstalling huggingface-hub-0.26.2:\n",
            "      Successfully uninstalled huggingface-hub-0.26.2\n",
            "  Attempting uninstall: transformers\n",
            "    Found existing installation: transformers 4.46.2\n",
            "    Uninstalling transformers-4.46.2:\n",
            "      Successfully uninstalled transformers-4.46.2\n",
            "\u001b[31mERROR: pip's dependency resolver does not currently take into account all the packages that are installed. This behaviour is the source of the following dependency conflicts.\n",
            "cudf-cu12 24.10.1 requires pandas<2.2.3dev0,>=2.0, but you have pandas 2.2.3 which is incompatible.\n",
            "gensim 4.3.3 requires scipy<1.14.0,>=1.7.0, but you have scipy 1.14.1 which is incompatible.\n",
            "google-colab 1.0.0 requires pandas==2.2.2, but you have pandas 2.2.3 which is incompatible.\u001b[0m\u001b[31m\n",
            "\u001b[0mSuccessfully installed LlmEmbeddingXrVizualization-0.1.8 MarkupSafe-2.1.5 bpy-4.0.0 huggingface-hub-0.26.3 mathutils-3.3.0 matplotlib-3.9.3 pandas-2.2.3 pillow-10.4.0 pynndescent-0.5.13 python-dateutil-2.9.0.post0 regex-2024.11.6 scipy-1.14.1 tomli-2.2.1 tqdm-4.67.1 transformers-4.46.3 umap-learn-0.5.7 zstandard-0.23.0\n"
          ]
        },
        {
          "output_type": "display_data",
          "data": {
            "application/vnd.colab-display-data+json": {
              "pip_warning": {
                "packages": [
                  "PIL",
                  "dateutil"
                ]
              },
              "id": "ec7b4d19771049b4af79bf5cabb9486c"
            }
          },
          "metadata": {}
        }
      ],
      "source": [
        "!pip install LlmEmbeddingXrVizualization==0.1.8"
      ]
    },
    {
      "cell_type": "code",
      "source": [
        "!llm-embedding-viz --help"
      ],
      "metadata": {
        "colab": {
          "base_uri": "https://localhost:8080/"
        },
        "id": "1uBORXM-ATLG",
        "outputId": "2cf19eaf-f8a2-4544-ba27-d12b3ab994e7"
      },
      "execution_count": 1,
      "outputs": [
        {
          "output_type": "stream",
          "name": "stdout",
          "text": [
            "2024-12-04 00:13:51.847018: E external/local_xla/xla/stream_executor/cuda/cuda_fft.cc:485] Unable to register cuFFT factory: Attempting to register factory for plugin cuFFT when one has already been registered\n",
            "2024-12-04 00:13:51.883979: E external/local_xla/xla/stream_executor/cuda/cuda_dnn.cc:8454] Unable to register cuDNN factory: Attempting to register factory for plugin cuDNN when one has already been registered\n",
            "2024-12-04 00:13:51.898172: E external/local_xla/xla/stream_executor/cuda/cuda_blas.cc:1452] Unable to register cuBLAS factory: Attempting to register factory for plugin cuBLAS when one has already been registered\n",
            "2024-12-04 00:13:51.922422: I tensorflow/core/platform/cpu_feature_guard.cc:210] This TensorFlow binary is optimized to use available CPU instructions in performance-critical operations.\n",
            "To enable the following instructions: AVX2 FMA, in other operations, rebuild TensorFlow with the appropriate compiler flags.\n",
            "2024-12-04 00:13:53.623781: W tensorflow/compiler/tf2tensorrt/utils/py_utils.cc:38] TF-TRT Warning: Could not find TensorRT\n",
            "Usage: llm-embedding-viz [OPTIONS]\n",
            "\n",
            "  Generate a 3D XR visualization of word embeddings from a provided Hugging\n",
            "  Face model.\n",
            "\n",
            "Options:\n",
            "  -m, --model_name TEXT        Name of the HuggingFace model to use.\n",
            "  -r, --reduction_method TEXT  Select dimensionality reduction algo from:\n",
            "                               'umap', 'pca', 'tsne', 'isomap', 'mds'.\n",
            "  -w, --words TEXT             Comma-separated list of words to embed.\n",
            "  -d, --domains TEXT           Domain associated with the words.\n",
            "  -c, --csv_file TEXT          Path to the CSV file containing words and\n",
            "                               domains.\n",
            "  -o, --output_file TEXT       Path to save the output DAE file.\n",
            "  -s, --show_plot              Show the plot if this flag is set.\n",
            "  --help                       Show this message and exit.\n"
          ]
        }
      ]
    },
    {
      "cell_type": "code",
      "source": [
        "!pip install xformers"
      ],
      "metadata": {
        "colab": {
          "base_uri": "https://localhost:8080/"
        },
        "id": "9mha1ee0B89u",
        "outputId": "9c69f712-8c0e-465a-d44a-f6ec095e5922"
      },
      "execution_count": 3,
      "outputs": [
        {
          "output_type": "stream",
          "name": "stdout",
          "text": [
            "Collecting xformers\n",
            "  Downloading xformers-0.0.28.post3-cp310-cp310-manylinux_2_28_x86_64.whl.metadata (1.0 kB)\n",
            "Requirement already satisfied: numpy in /usr/local/lib/python3.10/dist-packages (from xformers) (1.26.4)\n",
            "Requirement already satisfied: torch==2.5.1 in /usr/local/lib/python3.10/dist-packages (from xformers) (2.5.1+cu121)\n",
            "Requirement already satisfied: filelock in /usr/local/lib/python3.10/dist-packages (from torch==2.5.1->xformers) (3.16.1)\n",
            "Requirement already satisfied: typing-extensions>=4.8.0 in /usr/local/lib/python3.10/dist-packages (from torch==2.5.1->xformers) (4.12.2)\n",
            "Requirement already satisfied: networkx in /usr/local/lib/python3.10/dist-packages (from torch==2.5.1->xformers) (3.4.2)\n",
            "Requirement already satisfied: jinja2 in /usr/local/lib/python3.10/dist-packages (from torch==2.5.1->xformers) (3.1.4)\n",
            "Requirement already satisfied: fsspec in /usr/local/lib/python3.10/dist-packages (from torch==2.5.1->xformers) (2024.10.0)\n",
            "Requirement already satisfied: sympy==1.13.1 in /usr/local/lib/python3.10/dist-packages (from torch==2.5.1->xformers) (1.13.1)\n",
            "Requirement already satisfied: mpmath<1.4,>=1.1.0 in /usr/local/lib/python3.10/dist-packages (from sympy==1.13.1->torch==2.5.1->xformers) (1.3.0)\n",
            "Requirement already satisfied: MarkupSafe>=2.0 in /usr/local/lib/python3.10/dist-packages (from jinja2->torch==2.5.1->xformers) (2.1.5)\n",
            "Downloading xformers-0.0.28.post3-cp310-cp310-manylinux_2_28_x86_64.whl (16.7 MB)\n",
            "\u001b[2K   \u001b[90m━━━━━━━━━━━━━━━━━━━━━━━━━━━━━━━━━━━━━━━━\u001b[0m \u001b[32m16.7/16.7 MB\u001b[0m \u001b[31m91.1 MB/s\u001b[0m eta \u001b[36m0:00:00\u001b[0m\n",
            "\u001b[?25hInstalling collected packages: xformers\n",
            "Successfully installed xformers-0.0.28.post3\n"
          ]
        }
      ]
    },
    {
      "cell_type": "code",
      "source": [
        "!llm-embedding-viz -s"
      ],
      "metadata": {
        "colab": {
          "base_uri": "https://localhost:8080/"
        },
        "id": "ZJlGiYQ9BP10",
        "outputId": "f6abd196-2750-490c-e4ee-0d05f7fe89b0"
      },
      "execution_count": 4,
      "outputs": [
        {
          "output_type": "stream",
          "name": "stdout",
          "text": [
            "2024-12-04 00:18:24.840330: E external/local_xla/xla/stream_executor/cuda/cuda_fft.cc:485] Unable to register cuFFT factory: Attempting to register factory for plugin cuFFT when one has already been registered\n",
            "2024-12-04 00:18:24.860969: E external/local_xla/xla/stream_executor/cuda/cuda_dnn.cc:8454] Unable to register cuDNN factory: Attempting to register factory for plugin cuDNN when one has already been registered\n",
            "2024-12-04 00:18:24.867910: E external/local_xla/xla/stream_executor/cuda/cuda_blas.cc:1452] Unable to register cuBLAS factory: Attempting to register factory for plugin cuBLAS when one has already been registered\n",
            "2024-12-04 00:18:24.883018: I tensorflow/core/platform/cpu_feature_guard.cc:210] This TensorFlow binary is optimized to use available CPU instructions in performance-critical operations.\n",
            "To enable the following instructions: AVX2 FMA, in other operations, rebuild TensorFlow with the appropriate compiler flags.\n",
            "2024-12-04 00:18:26.157905: W tensorflow/compiler/tf2tensorrt/utils/py_utils.cc:38] TF-TRT Warning: Could not find TensorRT\n",
            "🚀🚀🚀 Kicking off the transformation of 3D data into a cool XR dae object!🚀🚀🚀\n",
            "\n",
            "\n",
            "📝 Reading words and domains from arguments...\n",
            "🛠️ Initializing Hugging Face Model (expect some output below)...\n",
            "\n",
            "        🔌 Using model: dunzhang/stella_en_400M_v5🔌\n",
            "\n",
            "\n",
            "Some weights of the model checkpoint at dunzhang/stella_en_400M_v5 were not used when initializing NewModel: ['new.pooler.dense.bias', 'new.pooler.dense.weight']\n",
            "- This IS expected if you are initializing NewModel from the checkpoint of a model trained on another task or with another architecture (e.g. initializing a BertForSequenceClassification model from a BertForPreTraining model).\n",
            "- This IS NOT expected if you are initializing NewModel from the checkpoint of a model that you expect to be exactly identical (initializing a BertForSequenceClassification model from a BertForSequenceClassification model).\n",
            "tokenizer_config.json: 100% 1.38k/1.38k [00:00<00:00, 8.44MB/s]\n",
            "vocab.txt: 100% 232k/232k [00:00<00:00, 553kB/s]\n",
            "tokenizer.json: 100% 712k/712k [00:01<00:00, 568kB/s]\n",
            "special_tokens_map.json: 100% 695/695 [00:00<00:00, 3.86MB/s]\n",
            "\n",
            "\n",
            "🧠 Getting model embeddings for words/sentences...\n",
            "📈 Generating reduced embeddings for words/sentences using umap...\n",
            "📊 Generating & Saving 3D Object to Dae file output.dae... \n",
            "\n",
            "Collada export to: output.dae\n",
            "Info: Exported 112 Objects\n",
            "\n",
            "💾 Generated Dae file saved to output.dae🎁\n",
            "✅ Done!\n",
            "\n",
            "ℹ️ please take the generated dae file and upload it to xr visualization tool (\"eg. Sketchup\") to see the 3D object. If Sketchup is used, the resulting XR environment can be uploaded to the cloud and viewed from Meta Quest Headsets.\n"
          ]
        }
      ]
    },
    {
      "cell_type": "code",
      "source": [
        "!llm-embedding-viz --model_name \"distilbert/distilbert-base-uncased-finetuned-sst-2-english\" -r isomap -s"
      ],
      "metadata": {
        "colab": {
          "base_uri": "https://localhost:8080/"
        },
        "id": "sL7-1zKqCYXD",
        "outputId": "649929f8-dbde-4aca-dc68-2468596e1c4a"
      },
      "execution_count": 6,
      "outputs": [
        {
          "output_type": "stream",
          "name": "stdout",
          "text": [
            "2024-12-04 00:20:50.871334: E external/local_xla/xla/stream_executor/cuda/cuda_fft.cc:485] Unable to register cuFFT factory: Attempting to register factory for plugin cuFFT when one has already been registered\n",
            "2024-12-04 00:20:50.893383: E external/local_xla/xla/stream_executor/cuda/cuda_dnn.cc:8454] Unable to register cuDNN factory: Attempting to register factory for plugin cuDNN when one has already been registered\n",
            "2024-12-04 00:20:50.900779: E external/local_xla/xla/stream_executor/cuda/cuda_blas.cc:1452] Unable to register cuBLAS factory: Attempting to register factory for plugin cuBLAS when one has already been registered\n",
            "2024-12-04 00:20:50.916409: I tensorflow/core/platform/cpu_feature_guard.cc:210] This TensorFlow binary is optimized to use available CPU instructions in performance-critical operations.\n",
            "To enable the following instructions: AVX2 FMA, in other operations, rebuild TensorFlow with the appropriate compiler flags.\n",
            "2024-12-04 00:20:52.277797: W tensorflow/compiler/tf2tensorrt/utils/py_utils.cc:38] TF-TRT Warning: Could not find TensorRT\n",
            "🚀🚀🚀 Kicking off the transformation of 3D data into a cool XR dae object!🚀🚀🚀\n",
            "\n",
            "\n",
            "📝 Reading words and domains from arguments...\n",
            "🛠️ Initializing Hugging Face Model (expect some output below)...\n",
            "\n",
            "        🔌 Using model: distilbert/distilbert-base-uncased-finetuned-sst-2-english🔌\n",
            "\n",
            "\n",
            "config.json: 100% 629/629 [00:00<00:00, 3.72MB/s]\n",
            "model.safetensors: 100% 268M/268M [00:01<00:00, 214MB/s]\n",
            "tokenizer_config.json: 100% 48.0/48.0 [00:00<00:00, 311kB/s]\n",
            "vocab.txt: 100% 232k/232k [00:00<00:00, 28.9MB/s]\n",
            "\n",
            "\n",
            "🧠 Getting model embeddings for words/sentences...\n",
            "📈 Generating reduced embeddings for words/sentences using isomap...\n",
            "📊 Generating & Saving 3D Object to Dae file output.dae... \n",
            "\n",
            "Collada export to: output.dae\n",
            "Info: Exported 112 Objects\n",
            "\n",
            "💾 Generated Dae file saved to output.dae🎁\n",
            "✅ Done!\n",
            "\n",
            "ℹ️ please take the generated dae file and upload it to xr visualization tool (\"eg. Sketchup\") to see the 3D object. If Sketchup is used, the resulting XR environment can be uploaded to the cloud and viewed from Meta Quest Headsets.\n"
          ]
        }
      ]
    }
  ]
}